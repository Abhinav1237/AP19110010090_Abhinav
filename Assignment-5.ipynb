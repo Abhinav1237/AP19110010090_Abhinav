{
 "cells": [
  {
   "cell_type": "markdown",
   "id": "2795e105",
   "metadata": {},
   "source": [
    "## 1.)Write a Python script to print a dictionary where the keys are numbers between 1 and 15(both included) and the values are the squares of keys"
   ]
  },
  {
   "cell_type": "code",
   "execution_count": 1,
   "id": "eae3eb04",
   "metadata": {},
   "outputs": [
    {
     "name": "stdout",
     "output_type": "stream",
     "text": [
      "{1: 1, 2: 4, 3: 9, 4: 16, 5: 25, 6: 36, 7: 49, 8: 64, 9: 81, 10: 100, 11: 121, 12: 144, 13: 169, 14: 196, 15: 225}\n"
     ]
    }
   ],
   "source": [
    "dic1={}\n",
    "for i in range(1,16):\n",
    " dic1[i] = i*i\n",
    "print(dic1)"
   ]
  },
  {
   "cell_type": "markdown",
   "id": "17b8387a",
   "metadata": {},
   "source": [
    "## 2.)Write a Python program to map two lists into a dictionary"
   ]
  },
  {
   "cell_type": "code",
   "execution_count": 2,
   "id": "dec16089",
   "metadata": {},
   "outputs": [
    {
     "name": "stdout",
     "output_type": "stream",
     "text": [
      "{1: 'challa', 2: 'abhi', 3: 'nav'}\n"
     ]
    }
   ],
   "source": [
    "keys = [1, 2, 3]\n",
    "values = ['challa','abhi','nav']\n",
    "dict1 = dict(zip(keys, values))\n",
    "print(dict1)"
   ]
  },
  {
   "cell_type": "markdown",
   "id": "5df916b5",
   "metadata": {},
   "source": [
    "## 3.)Write a Python program to sort a list alphabetically in a dictionary\n",
    "- input : {'n1': [2, 3, 1], 'n2': [5, 1, 2], 'n3': [3, 2, 4]}\n",
    "- output : {'n1': [1, 2, 3], 'n2': [1, 2, 5], 'n3': [2, 3, 4]}"
   ]
  },
  {
   "cell_type": "code",
   "execution_count": 3,
   "id": "c5e27d8a",
   "metadata": {},
   "outputs": [
    {
     "name": "stdout",
     "output_type": "stream",
     "text": [
      "{'n1': [1, 2, 3], 'n2': [1, 2, 5], 'n3': [2, 3, 4]}\n"
     ]
    }
   ],
   "source": [
    "num = {'n1': [2, 3, 1], 'n2': [5, 1, 2], 'n3': [3, 2, 4]}\n",
    "dict2 = {a: sorted(b) for a, b in num.items()}\n",
    "print(dict2)"
   ]
  }
 ],
 "metadata": {
  "kernelspec": {
   "display_name": "Python 3",
   "language": "python",
   "name": "python3"
  },
  "language_info": {
   "codemirror_mode": {
    "name": "ipython",
    "version": 3
   },
   "file_extension": ".py",
   "mimetype": "text/x-python",
   "name": "python",
   "nbconvert_exporter": "python",
   "pygments_lexer": "ipython3",
   "version": "3.8.8"
  }
 },
 "nbformat": 4,
 "nbformat_minor": 5
}
