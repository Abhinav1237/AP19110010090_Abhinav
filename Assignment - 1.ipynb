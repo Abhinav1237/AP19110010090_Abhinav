{
 "cells": [
  {
   "cell_type": "markdown",
   "id": "4712e531",
   "metadata": {},
   "source": [
    "## 1. Write a program to check whether whether the user eligible to vote or not\n"
   ]
  },
  {
   "cell_type": "code",
   "execution_count": 9,
   "id": "3aca5152",
   "metadata": {},
   "outputs": [
    {
     "name": "stdout",
     "output_type": "stream",
     "text": [
      "enter your age: 22\n",
      "the user is eligible to vote\n"
     ]
    }
   ],
   "source": [
    "age = int(input(\"enter your age: \"))\n",
    "if age >= 18:\n",
    "    print(\"the user is eligible to vote\")\n",
    "else:\n",
    "    print(\"the user is not eligible to vote\")\n",
    "   "
   ]
  },
  {
   "cell_type": "markdown",
   "id": "d3c38819",
   "metadata": {},
   "source": [
    "## 2. Check the given number is positive or negative\n"
   ]
  },
  {
   "cell_type": "code",
   "execution_count": 10,
   "id": "8a84632c",
   "metadata": {},
   "outputs": [
    {
     "name": "stdout",
     "output_type": "stream",
     "text": [
      "enter any number: 1\n",
      "the given number is positive\n"
     ]
    }
   ],
   "source": [
    "a = float(input(\"enter any number: \"))\n",
    "if a>=0:\n",
    "    print(\"the given number is positive\")\n",
    "elif a<0:\n",
    "    print(\"the given number is negative\")\n",
    "else :\n",
    "    print(\"the given number is zero\")"
   ]
  },
  {
   "cell_type": "markdown",
   "id": "d3547ffd",
   "metadata": {},
   "source": [
    "## 3. To check whether given number is odd or even,and if it's even check will it be divided by 4 or not"
   ]
  },
  {
   "cell_type": "code",
   "execution_count": 8,
   "id": "b03374d7",
   "metadata": {},
   "outputs": [
    {
     "name": "stdout",
     "output_type": "stream",
     "text": [
      "enter any number: 24\n",
      "the given number is even and divisible by 4\n"
     ]
    }
   ],
   "source": [
    "a = int(input(\"enter any number: \"))\n",
    "if (a%2==0 and a%4==0):\n",
    "    print(\"the given number is even and divisible by 4\")\n",
    "elif(a%2==0 and a%4!=0):\n",
    "    print(\"the given number is even and not divisible by 4\")\n",
    "else:\n",
    "    print(\"the given number is odd\")"
   ]
  },
  {
   "cell_type": "markdown",
   "id": "486e7484",
   "metadata": {},
   "source": [
    "## 4. Write a program to print the student gardes based on their percentages."
   ]
  },
  {
   "cell_type": "code",
   "execution_count": 11,
   "id": "c5da0427",
   "metadata": {},
   "outputs": [
    {
     "name": "stdout",
     "output_type": "stream",
     "text": [
      "enter your percentage:87.2\n",
      "the student passed the exam in distinction\n"
     ]
    }
   ],
   "source": [
    "a = float(input(\"enter your percentage:\"))\n",
    "if a>=70:\n",
    "    print(\"the student passed the exam in distinction\")\n",
    "elif(a>=30 and a<70):\n",
    "    print(\"the student cleared the exam with pass mark\")\n",
    "else:\n",
    "    print(\"the student failed the exam\")"
   ]
  },
  {
   "cell_type": "markdown",
   "id": "70059ce7",
   "metadata": {},
   "source": [
    "## 5. Write a program to check whether a given year is leap year or not"
   ]
  },
  {
   "cell_type": "code",
   "execution_count": 13,
   "id": "3662702e",
   "metadata": {},
   "outputs": [
    {
     "name": "stdout",
     "output_type": "stream",
     "text": [
      "enter your year: 2020\n",
      "the given year is leap year\n"
     ]
    }
   ],
   "source": [
    "##leap year is divisible by 4 but not by 100\n",
    "a = int(input(\"enter your year: \"))\n",
    "if(a%4==0 and a%100!=0):\n",
    "    print(\"the given year is leap year\")\n",
    "elif a%100!=0:\n",
    "    print(\"the given year is not leap year\")\n",
    "elif a%400==0:\n",
    "    print(\"the given year is leap year\")\n",
    "else:\n",
    "    print(\"the given year is not leap year\")"
   ]
  }
 ],
 "metadata": {
  "kernelspec": {
   "display_name": "Python 3",
   "language": "python",
   "name": "python3"
  },
  "language_info": {
   "codemirror_mode": {
    "name": "ipython",
    "version": 3
   },
   "file_extension": ".py",
   "mimetype": "text/x-python",
   "name": "python",
   "nbconvert_exporter": "python",
   "pygments_lexer": "ipython3",
   "version": "3.8.8"
  }
 },
 "nbformat": 4,
 "nbformat_minor": 5
}
