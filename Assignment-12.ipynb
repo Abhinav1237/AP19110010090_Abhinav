{
 "cells": [
  {
   "cell_type": "markdown",
   "id": "f9f8934a",
   "metadata": {},
   "source": [
    "## Task\n",
    "\n",
    "### Create arrays with all the data types available in numpy.\n",
    "* integer\n",
    "* boolean\n",
    "* unsigned integer\n",
    "* float\n",
    "* complex float\n",
    "* timedelta\n",
    "* datatime\n",
    "* object\n",
    "* string\n",
    "* unicode string\n",
    "* fixed chunk of memory for other type (void)"
   ]
  },
  {
   "cell_type": "code",
   "execution_count": 2,
   "id": "3fe14e13",
   "metadata": {},
   "outputs": [
    {
     "name": "stdout",
     "output_type": "stream",
     "text": [
      "[1 2 3 4]\n",
      "int32\n"
     ]
    }
   ],
   "source": [
    "#Integer\n",
    "import numpy as np\n",
    "x = np.array([1,2,3,4], dtype='i')\n",
    "print(x)\n",
    "print(x.dtype)"
   ]
  },
  {
   "cell_type": "code",
   "execution_count": 3,
   "id": "01e0a069",
   "metadata": {},
   "outputs": [
    {
     "name": "stdout",
     "output_type": "stream",
     "text": [
      "[False  True  True]\n",
      "bool\n"
     ]
    }
   ],
   "source": [
    "#Boolean\n",
    "import numpy as np\n",
    "x = np.array([0,1,2], dtype='bool')\n",
    "print(x)\n",
    "print(x.dtype)"
   ]
  },
  {
   "cell_type": "code",
   "execution_count": 4,
   "id": "d530937b",
   "metadata": {},
   "outputs": [
    {
     "name": "stdout",
     "output_type": "stream",
     "text": [
      "[         0 4294967295          2 4294967293          4]\n",
      "uint32\n"
     ]
    }
   ],
   "source": [
    "#Unsigned integer\n",
    "x=np.array([0,-1,2,-3,4], dtype='uint')\n",
    "print(x)\n",
    "print(x.dtype)"
   ]
  },
  {
   "cell_type": "code",
   "execution_count": 5,
   "id": "29ec516d",
   "metadata": {},
   "outputs": [
    {
     "name": "stdout",
     "output_type": "stream",
     "text": [
      "[1.1 2.  3.  3. ]\n",
      "float64\n"
     ]
    }
   ],
   "source": [
    "#Float\n",
    "x=np.array([1.1,2,3,3], dtype='float')\n",
    "print(x)\n",
    "print(x.dtype)"
   ]
  },
  {
   "cell_type": "code",
   "execution_count": 8,
   "id": "c9fd329d",
   "metadata": {},
   "outputs": [
    {
     "name": "stdout",
     "output_type": "stream",
     "text": [
      "[ 1.  +2.j 12.2 +0.j  3.  +5.j  9.  +8.j  6.65+0.j]\n",
      "complex128\n"
     ]
    }
   ],
   "source": [
    "#Complex float\n",
    "x=np.array([1+2j,12.2,3+5j,9+8j,6.65])\n",
    "print(x)\n",
    "print(x.dtype)"
   ]
  },
  {
   "cell_type": "code",
   "execution_count": 9,
   "id": "bf3ee110",
   "metadata": {},
   "outputs": [
    {
     "name": "stdout",
     "output_type": "stream",
     "text": [
      "2 days\n"
     ]
    },
    {
     "data": {
      "text/plain": [
       "dtype('<m8[D]')"
      ]
     },
     "execution_count": 9,
     "metadata": {},
     "output_type": "execute_result"
    }
   ],
   "source": [
    "#Timedelta\n",
    "x=np.timedelta64(2,'D')\n",
    "print(x)\n",
    "x.dtype"
   ]
  },
  {
   "cell_type": "code",
   "execution_count": 11,
   "id": "1e1bcdf3",
   "metadata": {},
   "outputs": [
    {
     "name": "stdout",
     "output_type": "stream",
     "text": [
      "['2000-02-21' '2001-05-26' '2002-11-19']\n",
      "datetime64[D]\n"
     ]
    }
   ],
   "source": [
    "#Datetime\n",
    "x=np.array(['2000-02-21','2001-05-26','2002-11-19'],dtype='datetime64')\n",
    "print(x)\n",
    "print(x.dtype)"
   ]
  },
  {
   "cell_type": "code",
   "execution_count": 12,
   "id": "7d1423f7",
   "metadata": {},
   "outputs": [
    {
     "name": "stdout",
     "output_type": "stream",
     "text": [
      "['kohli' 11 18]\n",
      "object\n"
     ]
    }
   ],
   "source": [
    "#Object\n",
    "x=np.array(['kohli',11,18],dtype='O')\n",
    "print(x)\n",
    "print(x.dtype)"
   ]
  },
  {
   "cell_type": "code",
   "execution_count": 13,
   "id": "0fbb5b04",
   "metadata": {},
   "outputs": [
    {
     "name": "stdout",
     "output_type": "stream",
     "text": [
      "['abhinav']\n",
      "<U7\n"
     ]
    }
   ],
   "source": [
    "#String\n",
    "x=np.array(['abhinav'],dtype='str')\n",
    "print(x)\n",
    "print(x.dtype)"
   ]
  },
  {
   "cell_type": "code",
   "execution_count": 14,
   "id": "ebdbbd5a",
   "metadata": {},
   "outputs": [
    {
     "name": "stdout",
     "output_type": "stream",
     "text": [
      "['Δ' '\\xadZ' 'µF' '∂r']\n",
      "<U2\n"
     ]
    }
   ],
   "source": [
    "#Unicode string\n",
    "x=np.array([u'\\u0394', u'\\255Z', u'\\265F', u'\\u2202r'])\n",
    "print(x)\n",
    "print(x.dtype)"
   ]
  },
  {
   "cell_type": "code",
   "execution_count": 17,
   "id": "1cf6189f",
   "metadata": {},
   "outputs": [
    {
     "name": "stdout",
     "output_type": "stream",
     "text": [
      "[]\n",
      "|V8\n"
     ]
    }
   ],
   "source": [
    "#Fixed chunk of memory for other type (void)\n",
    "x=np.array([],dtype='V')\n",
    "print(x)\n",
    "print(x.dtype)"
   ]
  }
 ],
 "metadata": {
  "kernelspec": {
   "display_name": "Python 3",
   "language": "python",
   "name": "python3"
  },
  "language_info": {
   "codemirror_mode": {
    "name": "ipython",
    "version": 3
   },
   "file_extension": ".py",
   "mimetype": "text/x-python",
   "name": "python",
   "nbconvert_exporter": "python",
   "pygments_lexer": "ipython3",
   "version": "3.8.8"
  }
 },
 "nbformat": 4,
 "nbformat_minor": 5
}
