{
 "cells": [
  {
   "cell_type": "markdown",
   "id": "b8d53175",
   "metadata": {},
   "source": [
    "## Tasks\n",
    "1.)\n",
    "* area of circle : pi*(r)^2\n",
    "\n",
    "* area of Triangle : 1/2 baseheight\n",
    "\n",
    "* area of square : Side^2\n",
    "\n",
    "* area of rectangle: l*b"
   ]
  },
  {
   "cell_type": "code",
   "execution_count": 14,
   "id": "21452a50",
   "metadata": {},
   "outputs": [
    {
     "name": "stdout",
     "output_type": "stream",
     "text": [
      "8.4\n",
      "area of circle:  221.6707776372958\n"
     ]
    }
   ],
   "source": [
    "from math import pi\n",
    "r = float(input())\n",
    "area = pi*(r*r)\n",
    "print('area of circle: ',area)"
   ]
  },
  {
   "cell_type": "code",
   "execution_count": 15,
   "id": "a2594503",
   "metadata": {},
   "outputs": [
    {
     "name": "stdout",
     "output_type": "stream",
     "text": [
      "9.3\n",
      "0.3\n",
      "area of traingle:  1.395\n"
     ]
    }
   ],
   "source": [
    "import math\n",
    "base = float(input())\n",
    "height = float(input())\n",
    "area = 0.5*base*height\n",
    "print('area of traingle: ',area)"
   ]
  },
  {
   "cell_type": "code",
   "execution_count": 11,
   "id": "4109965e",
   "metadata": {},
   "outputs": [
    {
     "name": "stdout",
     "output_type": "stream",
     "text": [
      "8.7\n",
      "area of square:  75.68999999999998\n"
     ]
    }
   ],
   "source": [
    "import math\n",
    "side = float(input())\n",
    "area = side*side\n",
    "print('area of square: ',area)"
   ]
  },
  {
   "cell_type": "code",
   "execution_count": 12,
   "id": "c3bbbbae",
   "metadata": {},
   "outputs": [
    {
     "name": "stdout",
     "output_type": "stream",
     "text": [
      "8.1\n",
      "9.7\n",
      "area of rectangle:  78.57\n"
     ]
    }
   ],
   "source": [
    "import math \n",
    "length = float(input())\n",
    "breadth = float(input())\n",
    "area = length*breadth\n",
    "print('area of rectangle: ',area)"
   ]
  },
  {
   "cell_type": "markdown",
   "id": "8645f151",
   "metadata": {},
   "source": [
    "## 2.) Write a program to set your password, if password is correct then speak out welcome to your world, else try again"
   ]
  },
  {
   "cell_type": "code",
   "execution_count": 1,
   "id": "7d7409e5",
   "metadata": {},
   "outputs": [
    {
     "name": "stdout",
     "output_type": "stream",
     "text": [
      "Enter your password: abhi\n",
      "Confirm your password: abhi\n"
     ]
    }
   ],
   "source": [
    "import pyttsx3\n",
    "x = input(\"Enter your password: \")\n",
    "y = input(\"Confirm your password: \")\n",
    "if x==y:\n",
    "    spk=pyttsx3.init()\n",
    "    spk.say(\"Welcome to your world\")\n",
    "    spk.runAndWait()\n",
    "else:\n",
    "    spk=pyttsx3.init()\n",
    "    spk.say(\"\")\n",
    "    spk.runAndWait()"
   ]
  },
  {
   "cell_type": "markdown",
   "id": "bdb76513",
   "metadata": {},
   "source": [
    "## 3.) Validate 12 digit phone number"
   ]
  },
  {
   "cell_type": "code",
   "execution_count": 2,
   "id": "32a4d37a",
   "metadata": {},
   "outputs": [
    {
     "name": "stdout",
     "output_type": "stream",
     "text": [
      "+919876543210\n",
      "+918123456789\n",
      "+917890123456\n"
     ]
    }
   ],
   "source": [
    "import re\n",
    "l1= ['+919876543210', '+918123456789', '+917890123456', '+91789654', '+911234567890']\n",
    "for i in l1:\n",
    "    if re.findall('^[+][9][1][6-9]{1}[0-9]{9}$',i):\n",
    "        print(i)"
   ]
  },
  {
   "cell_type": "markdown",
   "id": "9c390581",
   "metadata": {},
   "source": [
    "## 4.)\n",
    "* Write a program in module\n",
    "* Ask the user to enter the data\n",
    "* Check the data if it's camelcase print Like (Thumbsup)emoji\n",
    "* Else convert the data into camelcase then speakout Successfully converted your data into camel case"
   ]
  },
  {
   "cell_type": "code",
   "execution_count": 4,
   "id": "2606c2cf",
   "metadata": {},
   "outputs": [
    {
     "name": "stdout",
     "output_type": "stream",
     "text": [
      "Collecting emoji\n",
      "  Downloading emoji-1.2.0-py3-none-any.whl (131 kB)\n",
      "Installing collected packages: emoji\n",
      "Successfully installed emoji-1.2.0\n",
      "Note: you may need to restart the kernel to use updated packages.\n"
     ]
    }
   ],
   "source": [
    "pip install emoji "
   ]
  },
  {
   "cell_type": "code",
   "execution_count": 5,
   "id": "61c922ff",
   "metadata": {},
   "outputs": [
    {
     "name": "stdout",
     "output_type": "stream",
     "text": [
      "Collecting camelcase\n",
      "  Using cached camelcase-0.2-py3-none-any.whl\n",
      "Installing collected packages: camelcase\n",
      "Successfully installed camelcase-0.2\n",
      "Note: you may need to restart the kernel to use updated packages.\n"
     ]
    }
   ],
   "source": [
    "pip install camelcase"
   ]
  },
  {
   "cell_type": "code",
   "execution_count": 7,
   "id": "adbae446",
   "metadata": {},
   "outputs": [
    {
     "name": "stdout",
     "output_type": "stream",
     "text": [
      "Enter your data: Abhinav\n",
      "👍\n"
     ]
    }
   ],
   "source": [
    "import module\n",
    "module.conn_camelcase()"
   ]
  },
  {
   "cell_type": "code",
   "execution_count": 8,
   "id": "306f0e64",
   "metadata": {},
   "outputs": [
    {
     "name": "stdout",
     "output_type": "stream",
     "text": [
      "Enter your data: abhinav\n",
      "The converted data is: \n",
      "Abhinav\n"
     ]
    }
   ],
   "source": [
    "import module\n",
    "module.conn_camelcase()"
   ]
  },
  {
   "cell_type": "code",
   "execution_count": null,
   "id": "725557b9",
   "metadata": {},
   "outputs": [],
   "source": [
    "import camelcase\n",
    "import emoji\n",
    "import pyttsx3\n",
    "def conn_camelcase():\n",
    "    a=input(\"Enter your data: \")\n",
    "    x=camelcase.CamelCase()\n",
    "    if a==x.hump(a):\n",
    "        print(emoji.emojize(\":thumbs_up:\"))\n",
    "    else:\n",
    "        print(\"The converted data is: \")\n",
    "        x=camelcase.CamelCase()\n",
    "        print(x.hump(a))\n",
    "        spk=pyttsx3.init()\n",
    "        spk.say(\"Successfully converted\")\n",
    "        spk.runAndWait()"
   ]
  }
 ],
 "metadata": {
  "kernelspec": {
   "display_name": "Python 3",
   "language": "python",
   "name": "python3"
  },
  "language_info": {
   "codemirror_mode": {
    "name": "ipython",
    "version": 3
   },
   "file_extension": ".py",
   "mimetype": "text/x-python",
   "name": "python",
   "nbconvert_exporter": "python",
   "pygments_lexer": "ipython3",
   "version": "3.8.8"
  }
 },
 "nbformat": 4,
 "nbformat_minor": 5
}
