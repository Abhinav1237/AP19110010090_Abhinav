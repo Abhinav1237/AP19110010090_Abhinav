{
 "cells": [
  {
   "cell_type": "markdown",
   "id": "c9231c56",
   "metadata": {},
   "source": [
    "## 1.) create a function for finding the leap years within the given range"
   ]
  },
  {
   "cell_type": "code",
   "execution_count": 6,
   "id": "243416db",
   "metadata": {},
   "outputs": [
    {
     "name": "stdout",
     "output_type": "stream",
     "text": [
      "Enter the starting year: 2000\n",
      "Enter the ending year: 2050\n",
      "2000 2004 2008 2012 2016 2020 2024 2028 2032 2036 2040 2044 2048 "
     ]
    }
   ],
   "source": [
    "def leap_year(a):\n",
    "    if (a%4==0 and a%100!=0 or a%400==0):\n",
    "        return True\n",
    "    else:\n",
    "        return False\n",
    "def leap_year_range():\n",
    "    start = int(input(\"Enter the starting year: \"))\n",
    "    end = int(input(\"Enter the ending year: \"))\n",
    "    for i in range(start, end+1):\n",
    "        if leap_year(i) == True:\n",
    "            print(i,end=' ')\n",
    "leap_year_range()"
   ]
  },
  {
   "cell_type": "markdown",
   "id": "4e752fd7",
   "metadata": {},
   "source": [
    "## 2.)Create a function for getting the armstrong numbers within the given range"
   ]
  },
  {
   "cell_type": "code",
   "execution_count": 8,
   "id": "9c56250e",
   "metadata": {},
   "outputs": [
    {
     "name": "stdout",
     "output_type": "stream",
     "text": [
      "Enter the starting number: 100\n",
      "Enter the ending number: 500\n",
      "153\n",
      "370\n",
      "371\n",
      "407\n"
     ]
    }
   ],
   "source": [
    "def armstrong(x, y):\n",
    "    for i in range(x, y+1):\n",
    "        num = i\n",
    "        sum = 0\n",
    "        n = len(str(i))\n",
    "        while(i != 0):\n",
    "            digit = i % 10\n",
    "            sum = sum + digit ** n\n",
    "            i = i//10\n",
    "        if num == sum:\n",
    "            print(num)\n",
    "start = int(input(\"Enter the starting number: \"))\n",
    "final = int(input(\"Enter the ending number: \"))\n",
    "armstrong(start , final)"
   ]
  },
  {
   "cell_type": "markdown",
   "id": "c426a94c",
   "metadata": {},
   "source": [
    "## 3.) create a function for getting the prime numbers within the range"
   ]
  },
  {
   "cell_type": "code",
   "execution_count": 13,
   "id": "97841baa",
   "metadata": {},
   "outputs": [
    {
     "name": "stdout",
     "output_type": "stream",
     "text": [
      "Enter the starting number: 3\n",
      "Enter the ending number: 20\n",
      "3\n",
      "5\n",
      "7\n",
      "11\n",
      "13\n",
      "17\n",
      "19\n"
     ]
    }
   ],
   "source": [
    "def prime_number(x, y):\n",
    "    for num in range(x, y+1):\n",
    "        if num>1:\n",
    "            for i in range(2,num):\n",
    "                if (num % i) == 0:\n",
    "                    break\n",
    "            else:\n",
    "                print(num)\n",
    "start = int(input(\"Enter the starting number: \"))\n",
    "final = int(input(\"Enter the ending number: \"))\n",
    "prime_number(start,final)"
   ]
  },
  {
   "cell_type": "markdown",
   "id": "b7fc729e",
   "metadata": {},
   "source": [
    "## 4.) Create a function for finding the count of elements in a string. \"Srm university "
   ]
  },
  {
   "cell_type": "code",
   "execution_count": 15,
   "id": "42a71230",
   "metadata": {},
   "outputs": [
    {
     "name": "stdout",
     "output_type": "stream",
     "text": [
      "Enter a string: Srm university\n",
      "The total count of elements is: 14\n"
     ]
    }
   ],
   "source": [
    "def count_elements(string):\n",
    "    sum = 0\n",
    "    for i in string:\n",
    "        sum = sum + 1\n",
    "    return sum\n",
    "x = input(\"Enter a string: \")\n",
    "print(\"The total count of elements is:\",count_elements(x))"
   ]
  }
 ],
 "metadata": {
  "kernelspec": {
   "display_name": "Python 3",
   "language": "python",
   "name": "python3"
  },
  "language_info": {
   "codemirror_mode": {
    "name": "ipython",
    "version": 3
   },
   "file_extension": ".py",
   "mimetype": "text/x-python",
   "name": "python",
   "nbconvert_exporter": "python",
   "pygments_lexer": "ipython3",
   "version": "3.8.8"
  }
 },
 "nbformat": 4,
 "nbformat_minor": 5
}
