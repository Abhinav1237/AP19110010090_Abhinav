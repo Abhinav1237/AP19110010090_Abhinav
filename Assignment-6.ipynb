{
 "cells": [
  {
   "cell_type": "markdown",
   "id": "d246392e",
   "metadata": {},
   "source": [
    "## 1.)Write a pattern to display four digit numbers from list1"
   ]
  },
  {
   "cell_type": "code",
   "execution_count": 5,
   "id": "1da68532",
   "metadata": {},
   "outputs": [
    {
     "name": "stdout",
     "output_type": "stream",
     "text": [
      "6543\n",
      "7635\n"
     ]
    }
   ],
   "source": [
    "import re\n",
    "num = ['6543','97962376','35553','7635','98897']\n",
    "for i in num:\n",
    "    if re.findall('^[0-9]{4}$', i):\n",
    "        print(i)"
   ]
  },
  {
   "cell_type": "markdown",
   "id": "8100b398",
   "metadata": {},
   "source": [
    "## 2.) Validate a phone number using patterns"
   ]
  },
  {
   "cell_type": "code",
   "execution_count": 6,
   "id": "2e3a5450",
   "metadata": {},
   "outputs": [
    {
     "name": "stdout",
     "output_type": "stream",
     "text": [
      "9876543210\n",
      "8123456789\n",
      "7890123456\n"
     ]
    }
   ],
   "source": [
    "ph_list = ['9876543210', '8123456789', '7890123456', '789654', '1234567890']\n",
    "for i in ph_list:\n",
    "    if re.findall('[6-9]{1}[0-9]{9}$', i):\n",
    "        print(i)"
   ]
  },
  {
   "cell_type": "code",
   "execution_count": null,
   "id": "bfd9ef33",
   "metadata": {},
   "outputs": [],
   "source": []
  }
 ],
 "metadata": {
  "kernelspec": {
   "display_name": "Python 3",
   "language": "python",
   "name": "python3"
  },
  "language_info": {
   "codemirror_mode": {
    "name": "ipython",
    "version": 3
   },
   "file_extension": ".py",
   "mimetype": "text/x-python",
   "name": "python",
   "nbconvert_exporter": "python",
   "pygments_lexer": "ipython3",
   "version": "3.8.8"
  }
 },
 "nbformat": 4,
 "nbformat_minor": 5
}
