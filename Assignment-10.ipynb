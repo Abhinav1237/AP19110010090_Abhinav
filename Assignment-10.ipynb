{
 "cells": [
  {
   "cell_type": "markdown",
   "id": "f7369899",
   "metadata": {},
   "source": [
    "## Task -1\n",
    "* Write a program for getting the last five lines from the file"
   ]
  },
  {
   "cell_type": "code",
   "execution_count": 4,
   "id": "ad716d29",
   "metadata": {},
   "outputs": [
    {
     "name": "stdout",
     "output_type": "stream",
     "text": [
      "hardik\n",
      "\n",
      "jadeja\n",
      "\n",
      "chahal\n",
      "\n",
      "bumrah\n",
      "\n",
      "siraj\n"
     ]
    }
   ],
   "source": [
    "f= open('assignment.txt','r')\n",
    "for i in (f.readlines()[-5:]):\n",
    "    print(i)"
   ]
  },
  {
   "cell_type": "markdown",
   "id": "fe997f8a",
   "metadata": {},
   "source": [
    "## Task-2\n",
    "* Create a function for appending the data into the file"
   ]
  },
  {
   "cell_type": "code",
   "execution_count": 9,
   "id": "482c2acc",
   "metadata": {},
   "outputs": [],
   "source": [
    "def append_data(information):\n",
    "    with open('assignment.txt','a') as f:\n",
    "        information = f.write(\"\\nkuldeep \\n\")\n",
    "        information = f.write(\"krunal\")\n",
    "append_data('assignment.txt')"
   ]
  },
  {
   "cell_type": "code",
   "execution_count": 10,
   "id": "391282c9",
   "metadata": {},
   "outputs": [
    {
     "name": "stdout",
     "output_type": "stream",
     "text": [
      "rohit\n",
      "dhawan\n",
      "virat\n",
      "sky\n",
      "ishan\n",
      "pant\n",
      "hardik\n",
      "jadeja\n",
      "chahal\n",
      "bumrah\n",
      "siraj\n",
      "Shami \n",
      "Rahul\n",
      "kuldeep \n",
      "krunal\n"
     ]
    }
   ],
   "source": [
    "f = open('assignment.txt')\n",
    "print(f.read())"
   ]
  },
  {
   "cell_type": "markdown",
   "id": "1258e587",
   "metadata": {},
   "source": [
    "## Task-3\n",
    "* Create a program for updating a word in the file"
   ]
  },
  {
   "cell_type": "code",
   "execution_count": 11,
   "id": "f056ffde",
   "metadata": {},
   "outputs": [
    {
     "name": "stdout",
     "output_type": "stream",
     "text": [
      "rohit\n",
      "dhawan\n",
      "virat\n",
      "sky\n",
      "ishan\n",
      "pant\n",
      "hardik\n",
      "jadeja\n",
      "chahal\n",
      "bumrah\n",
      "siraj\n",
      "Bhuvi \n",
      "Rahul\n",
      "kuldeep \n",
      "krunal\n"
     ]
    }
   ],
   "source": [
    "import re\n",
    "with open('assignment.txt',\"r+\") as f:\n",
    "    f1 = f.read( )\n",
    "    f1 = re.sub( \"Shami\", \"Bhuvi\", f1)\n",
    "    f.seek(0)\n",
    "    f.write(f1)\n",
    "    f.truncate( )\n",
    "f = open(\"assignment.txt\")\n",
    "print (f.read( ))"
   ]
  }
 ],
 "metadata": {
  "kernelspec": {
   "display_name": "Python 3",
   "language": "python",
   "name": "python3"
  },
  "language_info": {
   "codemirror_mode": {
    "name": "ipython",
    "version": 3
   },
   "file_extension": ".py",
   "mimetype": "text/x-python",
   "name": "python",
   "nbconvert_exporter": "python",
   "pygments_lexer": "ipython3",
   "version": "3.8.8"
  }
 },
 "nbformat": 4,
 "nbformat_minor": 5
}
