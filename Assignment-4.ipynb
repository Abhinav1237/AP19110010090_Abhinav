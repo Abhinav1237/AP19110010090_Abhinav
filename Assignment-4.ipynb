{
 "cells": [
  {
   "cell_type": "markdown",
   "id": "7186d811",
   "metadata": {},
   "source": [
    "## 1.) Write a Python program to sum all the items in a list.\n"
   ]
  },
  {
   "cell_type": "code",
   "execution_count": 2,
   "id": "1d2e9384",
   "metadata": {},
   "outputs": [
    {
     "data": {
      "text/plain": [
       "23"
      ]
     },
     "execution_count": 2,
     "metadata": {},
     "output_type": "execute_result"
    }
   ],
   "source": [
    "l1 = [1,2,3,8,9]\n",
    "sum(l1)"
   ]
  },
  {
   "cell_type": "markdown",
   "id": "c771041f",
   "metadata": {},
   "source": [
    "## 2.) Write a Python program to convert a list of characters into a string"
   ]
  },
  {
   "cell_type": "code",
   "execution_count": 4,
   "id": "e935097b",
   "metadata": {},
   "outputs": [
    {
     "data": {
      "text/plain": [
       "'I am abhinav challa'"
      ]
     },
     "execution_count": 4,
     "metadata": {},
     "output_type": "execute_result"
    }
   ],
   "source": [
    "l1 = ['I','am','abhinav','challa']\n",
    "' '.join(l1)"
   ]
  },
  {
   "cell_type": "markdown",
   "id": "4e0a769d",
   "metadata": {},
   "source": [
    "## 3.) Write a program to put even and odd elements in a list into two different lists"
   ]
  },
  {
   "cell_type": "code",
   "execution_count": 9,
   "id": "6393a262",
   "metadata": {},
   "outputs": [
    {
     "name": "stdout",
     "output_type": "stream",
     "text": [
      "[1, 5, 9]\n",
      "[4, 8]\n"
     ]
    }
   ],
   "source": [
    "l1 = [1,3,5,7,9]\n",
    "l2 = [2,4,6,8,10]\n",
    "a = l1[::2]   #it writes the values present in even indices\n",
    "b = l2[1::2]  #it writes the values present in odd indices\n",
    "print(a)\n",
    "print(b)"
   ]
  },
  {
   "cell_type": "markdown",
   "id": "27b3b641",
   "metadata": {},
   "source": [
    "## 4.)Write a Python program to remove duplicates from a list\n"
   ]
  },
  {
   "cell_type": "code",
   "execution_count": 15,
   "id": "c479a446",
   "metadata": {},
   "outputs": [
    {
     "name": "stdout",
     "output_type": "stream",
     "text": [
      "[1, 2, 3, 4]\n"
     ]
    }
   ],
   "source": [
    "nums_1 = [1,1,2,2,3,3,4,4]\n",
    "nums_2 = []\n",
    "for i in nums_1:\n",
    "    if i not in nums_2:\n",
    "        nums_2.append(i)\n",
    "print(nums_2)\n",
    "\n"
   ]
  },
  {
   "cell_type": "markdown",
   "id": "669247f2",
   "metadata": {},
   "source": [
    "## 5.)Write a Python program to check a list is empty or not."
   ]
  },
  {
   "cell_type": "code",
   "execution_count": 16,
   "id": "e619d799",
   "metadata": {},
   "outputs": [
    {
     "name": "stdout",
     "output_type": "stream",
     "text": [
      "list is not empty\n"
     ]
    }
   ],
   "source": [
    "list = [1,2]\n",
    "if len(list)==0:\n",
    "    print(\"list is empty\")\n",
    "else:\n",
    "    print(\"list is not empty\")"
   ]
  },
  {
   "cell_type": "markdown",
   "id": "391dce59",
   "metadata": {},
   "source": [
    "## 6.)Write a Python program to print a specified list after removing the 0th, 4th and 5th elements."
   ]
  },
  {
   "cell_type": "code",
   "execution_count": 19,
   "id": "0d28a55d",
   "metadata": {},
   "outputs": [
    {
     "name": "stdout",
     "output_type": "stream",
     "text": [
      "[3, 5, 7, 9, 13]\n"
     ]
    }
   ],
   "source": [
    "list= [1,3,5,7,9,11,13,15]\n",
    "del list[0]\n",
    "del list[4]\n",
    "del list[5]\n",
    "print(list)"
   ]
  },
  {
   "cell_type": "markdown",
   "id": "81365385",
   "metadata": {},
   "source": [
    "## 7.)Write a Python that takes two lists and returns True if they have at least one common member."
   ]
  },
  {
   "cell_type": "code",
   "execution_count": 22,
   "id": "d21fc331",
   "metadata": {},
   "outputs": [
    {
     "name": "stdout",
     "output_type": "stream",
     "text": [
      "True\n"
     ]
    }
   ],
   "source": [
    "lst_1 = [1,2,3,4]\n",
    "lst_2 = [1,5,6,7]\n",
    "def common(list_1,list_2):\n",
    "    for i in lst_1:\n",
    "        for j in lst_2:\n",
    "            if i==j:\n",
    "                output = True\n",
    "                return output\n",
    "            else:\n",
    "                output = False\n",
    "                return output\n",
    "print(common(lst_1,lst_2))\n",
    "    "
   ]
  },
  {
   "cell_type": "code",
   "execution_count": null,
   "id": "399aed36",
   "metadata": {},
   "outputs": [],
   "source": []
  }
 ],
 "metadata": {
  "kernelspec": {
   "display_name": "Python 3",
   "language": "python",
   "name": "python3"
  },
  "language_info": {
   "codemirror_mode": {
    "name": "ipython",
    "version": 3
   },
   "file_extension": ".py",
   "mimetype": "text/x-python",
   "name": "python",
   "nbconvert_exporter": "python",
   "pygments_lexer": "ipython3",
   "version": "3.8.8"
  }
 },
 "nbformat": 4,
 "nbformat_minor": 5
}
