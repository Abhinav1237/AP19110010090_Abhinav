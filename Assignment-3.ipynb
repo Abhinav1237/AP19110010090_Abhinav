{
 "cells": [
  {
   "cell_type": "markdown",
   "id": "49eaf1cd",
   "metadata": {},
   "source": [
    "## Task\n",
    "* take the input from user\n",
    "*  know whether the length of string is even or odd\n",
    "* if it is odd,print the middle character\n",
    "* if it is even ,print the two middle characters"
   ]
  },
  {
   "cell_type": "code",
   "execution_count": 4,
   "id": "8a9a1251",
   "metadata": {},
   "outputs": [
    {
     "name": "stdout",
     "output_type": "stream",
     "text": [
      "enter your name: abhinavchalla\n",
      "length of the string is odd\n",
      "v\n"
     ]
    }
   ],
   "source": [
    "string = input(\"enter your name: \")\n",
    "if len(string)%2==0:\n",
    "    print(\"length of the string is even\")\n",
    "    print(string[len(string)//2 - 1],string[len(string)//2])\n",
    "elif len(string)%2!=0:\n",
    "    print(\"length of the string is odd\")\n",
    "    print(string[len(string)//2])"
   ]
  },
  {
   "cell_type": "code",
   "execution_count": null,
   "id": "2547871c",
   "metadata": {},
   "outputs": [],
   "source": []
  }
 ],
 "metadata": {
  "kernelspec": {
   "display_name": "Python 3",
   "language": "python",
   "name": "python3"
  },
  "language_info": {
   "codemirror_mode": {
    "name": "ipython",
    "version": 3
   },
   "file_extension": ".py",
   "mimetype": "text/x-python",
   "name": "python",
   "nbconvert_exporter": "python",
   "pygments_lexer": "ipython3",
   "version": "3.8.8"
  }
 },
 "nbformat": 4,
 "nbformat_minor": 5
}
